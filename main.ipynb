{
  "nbformat": 4,
  "nbformat_minor": 0,
  "metadata": {
    "colab": {
      "provenance": [],
      "mount_file_id": "1wJk0KlD9cgaTXtqUw0dt3P8WG5oDY_T1",
      "authorship_tag": "ABX9TyOek3Q1sGQyh1H8apQaTp/i"
    },
    "kernelspec": {
      "name": "python3",
      "display_name": "Python 3"
    },
    "language_info": {
      "name": "python"
    }
  },
  "cells": [
    {
      "cell_type": "code",
      "source": [
        "!pwd"
      ],
      "metadata": {
        "id": "vZCYIn3x6sZj"
      },
      "execution_count": null,
      "outputs": []
    },
    {
      "cell_type": "markdown",
      "metadata": {
        "id": "64faf796"
      },
      "source": [
        "これまでに実行したコマンドラインは以下の通りです。\n",
        "\n",
        "1.  `!pip install -r \"/content/drive/MyDrive/Colab Notebooks/CFD_XDE/requirements.txt\"`\n",
        "2.  `!cp \"/content/drive/MyDrive/Colab Notebooks/CFD_XDE/cfd_data.npy\" /content/`\n",
        "3.  `!python \"/content/drive/MyDrive/Colab Notebooks/CFD_XDE/main1.py\"`"
      ]
    },
    {
      "cell_type": "code",
      "source": [
        "!pip install -r \"/content/drive/MyDrive/Colab Notebooks/CFD_XDE/requirements.txt\"\n",
        "!cp \"/content/drive/MyDrive/Colab Notebooks/CFD_XDE/cfd_data.npy\" /content/\n"
      ],
      "metadata": {
        "colab": {
          "base_uri": "https://localhost:8080/"
        },
        "id": "sVDNPNGz8izf",
        "outputId": "c716f608-8a34-444a-d78d-a30d6cfa6469"
      },
      "execution_count": 1,
      "outputs": [
        {
          "output_type": "stream",
          "name": "stdout",
          "text": [
            "Requirement already satisfied: deepxde>=1.10.0 in /usr/local/lib/python3.12/dist-packages (from -r /content/drive/MyDrive/Colab Notebooks/CFD_XDE/requirements.txt (line 1)) (1.14.0)\n",
            "Requirement already satisfied: torch>=2.3.0 in /usr/local/lib/python3.12/dist-packages (from -r /content/drive/MyDrive/Colab Notebooks/CFD_XDE/requirements.txt (line 2)) (2.8.0+cu126)\n",
            "Requirement already satisfied: numpy>=1.24.0 in /usr/local/lib/python3.12/dist-packages (from -r /content/drive/MyDrive/Colab Notebooks/CFD_XDE/requirements.txt (line 3)) (2.0.2)\n",
            "Requirement already satisfied: pandas>=2.0.0 in /usr/local/lib/python3.12/dist-packages (from -r /content/drive/MyDrive/Colab Notebooks/CFD_XDE/requirements.txt (line 4)) (2.2.2)\n",
            "Requirement already satisfied: open3d>=0.18.0 in /usr/local/lib/python3.12/dist-packages (from -r /content/drive/MyDrive/Colab Notebooks/CFD_XDE/requirements.txt (line 5)) (0.19.0)\n",
            "Requirement already satisfied: scipy>=1.11.0 in /usr/local/lib/python3.12/dist-packages (from -r /content/drive/MyDrive/Colab Notebooks/CFD_XDE/requirements.txt (line 6)) (1.16.2)\n",
            "Requirement already satisfied: scikit-learn>=1.3.0 in /usr/local/lib/python3.12/dist-packages (from -r /content/drive/MyDrive/Colab Notebooks/CFD_XDE/requirements.txt (line 7)) (1.6.1)\n",
            "Requirement already satisfied: matplotlib>=3.7.0 in /usr/local/lib/python3.12/dist-packages (from -r /content/drive/MyDrive/Colab Notebooks/CFD_XDE/requirements.txt (line 8)) (3.10.0)\n",
            "Requirement already satisfied: scikit-optimize>=0.9.0 in /usr/local/lib/python3.12/dist-packages (from deepxde>=1.10.0->-r /content/drive/MyDrive/Colab Notebooks/CFD_XDE/requirements.txt (line 1)) (0.10.2)\n",
            "Requirement already satisfied: filelock in /usr/local/lib/python3.12/dist-packages (from torch>=2.3.0->-r /content/drive/MyDrive/Colab Notebooks/CFD_XDE/requirements.txt (line 2)) (3.19.1)\n",
            "Requirement already satisfied: typing-extensions>=4.10.0 in /usr/local/lib/python3.12/dist-packages (from torch>=2.3.0->-r /content/drive/MyDrive/Colab Notebooks/CFD_XDE/requirements.txt (line 2)) (4.15.0)\n",
            "Requirement already satisfied: setuptools in /usr/local/lib/python3.12/dist-packages (from torch>=2.3.0->-r /content/drive/MyDrive/Colab Notebooks/CFD_XDE/requirements.txt (line 2)) (75.2.0)\n",
            "Requirement already satisfied: sympy>=1.13.3 in /usr/local/lib/python3.12/dist-packages (from torch>=2.3.0->-r /content/drive/MyDrive/Colab Notebooks/CFD_XDE/requirements.txt (line 2)) (1.13.3)\n",
            "Requirement already satisfied: networkx in /usr/local/lib/python3.12/dist-packages (from torch>=2.3.0->-r /content/drive/MyDrive/Colab Notebooks/CFD_XDE/requirements.txt (line 2)) (3.5)\n",
            "Requirement already satisfied: jinja2 in /usr/local/lib/python3.12/dist-packages (from torch>=2.3.0->-r /content/drive/MyDrive/Colab Notebooks/CFD_XDE/requirements.txt (line 2)) (3.1.6)\n",
            "Requirement already satisfied: fsspec in /usr/local/lib/python3.12/dist-packages (from torch>=2.3.0->-r /content/drive/MyDrive/Colab Notebooks/CFD_XDE/requirements.txt (line 2)) (2025.3.0)\n",
            "Requirement already satisfied: nvidia-cuda-nvrtc-cu12==12.6.77 in /usr/local/lib/python3.12/dist-packages (from torch>=2.3.0->-r /content/drive/MyDrive/Colab Notebooks/CFD_XDE/requirements.txt (line 2)) (12.6.77)\n",
            "Requirement already satisfied: nvidia-cuda-runtime-cu12==12.6.77 in /usr/local/lib/python3.12/dist-packages (from torch>=2.3.0->-r /content/drive/MyDrive/Colab Notebooks/CFD_XDE/requirements.txt (line 2)) (12.6.77)\n",
            "Requirement already satisfied: nvidia-cuda-cupti-cu12==12.6.80 in /usr/local/lib/python3.12/dist-packages (from torch>=2.3.0->-r /content/drive/MyDrive/Colab Notebooks/CFD_XDE/requirements.txt (line 2)) (12.6.80)\n",
            "Requirement already satisfied: nvidia-cudnn-cu12==9.10.2.21 in /usr/local/lib/python3.12/dist-packages (from torch>=2.3.0->-r /content/drive/MyDrive/Colab Notebooks/CFD_XDE/requirements.txt (line 2)) (9.10.2.21)\n",
            "Requirement already satisfied: nvidia-cublas-cu12==12.6.4.1 in /usr/local/lib/python3.12/dist-packages (from torch>=2.3.0->-r /content/drive/MyDrive/Colab Notebooks/CFD_XDE/requirements.txt (line 2)) (12.6.4.1)\n",
            "Requirement already satisfied: nvidia-cufft-cu12==11.3.0.4 in /usr/local/lib/python3.12/dist-packages (from torch>=2.3.0->-r /content/drive/MyDrive/Colab Notebooks/CFD_XDE/requirements.txt (line 2)) (11.3.0.4)\n",
            "Requirement already satisfied: nvidia-curand-cu12==10.3.7.77 in /usr/local/lib/python3.12/dist-packages (from torch>=2.3.0->-r /content/drive/MyDrive/Colab Notebooks/CFD_XDE/requirements.txt (line 2)) (10.3.7.77)\n",
            "Requirement already satisfied: nvidia-cusolver-cu12==11.7.1.2 in /usr/local/lib/python3.12/dist-packages (from torch>=2.3.0->-r /content/drive/MyDrive/Colab Notebooks/CFD_XDE/requirements.txt (line 2)) (11.7.1.2)\n",
            "Requirement already satisfied: nvidia-cusparse-cu12==12.5.4.2 in /usr/local/lib/python3.12/dist-packages (from torch>=2.3.0->-r /content/drive/MyDrive/Colab Notebooks/CFD_XDE/requirements.txt (line 2)) (12.5.4.2)\n",
            "Requirement already satisfied: nvidia-cusparselt-cu12==0.7.1 in /usr/local/lib/python3.12/dist-packages (from torch>=2.3.0->-r /content/drive/MyDrive/Colab Notebooks/CFD_XDE/requirements.txt (line 2)) (0.7.1)\n",
            "Requirement already satisfied: nvidia-nccl-cu12==2.27.3 in /usr/local/lib/python3.12/dist-packages (from torch>=2.3.0->-r /content/drive/MyDrive/Colab Notebooks/CFD_XDE/requirements.txt (line 2)) (2.27.3)\n",
            "Requirement already satisfied: nvidia-nvtx-cu12==12.6.77 in /usr/local/lib/python3.12/dist-packages (from torch>=2.3.0->-r /content/drive/MyDrive/Colab Notebooks/CFD_XDE/requirements.txt (line 2)) (12.6.77)\n",
            "Requirement already satisfied: nvidia-nvjitlink-cu12==12.6.85 in /usr/local/lib/python3.12/dist-packages (from torch>=2.3.0->-r /content/drive/MyDrive/Colab Notebooks/CFD_XDE/requirements.txt (line 2)) (12.6.85)\n",
            "Requirement already satisfied: nvidia-cufile-cu12==1.11.1.6 in /usr/local/lib/python3.12/dist-packages (from torch>=2.3.0->-r /content/drive/MyDrive/Colab Notebooks/CFD_XDE/requirements.txt (line 2)) (1.11.1.6)\n",
            "Requirement already satisfied: triton==3.4.0 in /usr/local/lib/python3.12/dist-packages (from torch>=2.3.0->-r /content/drive/MyDrive/Colab Notebooks/CFD_XDE/requirements.txt (line 2)) (3.4.0)\n",
            "Requirement already satisfied: python-dateutil>=2.8.2 in /usr/local/lib/python3.12/dist-packages (from pandas>=2.0.0->-r /content/drive/MyDrive/Colab Notebooks/CFD_XDE/requirements.txt (line 4)) (2.9.0.post0)\n",
            "Requirement already satisfied: pytz>=2020.1 in /usr/local/lib/python3.12/dist-packages (from pandas>=2.0.0->-r /content/drive/MyDrive/Colab Notebooks/CFD_XDE/requirements.txt (line 4)) (2025.2)\n",
            "Requirement already satisfied: tzdata>=2022.7 in /usr/local/lib/python3.12/dist-packages (from pandas>=2.0.0->-r /content/drive/MyDrive/Colab Notebooks/CFD_XDE/requirements.txt (line 4)) (2025.2)\n",
            "Requirement already satisfied: dash>=2.6.0 in /usr/local/lib/python3.12/dist-packages (from open3d>=0.18.0->-r /content/drive/MyDrive/Colab Notebooks/CFD_XDE/requirements.txt (line 5)) (3.2.0)\n",
            "Requirement already satisfied: werkzeug>=3.0.0 in /usr/local/lib/python3.12/dist-packages (from open3d>=0.18.0->-r /content/drive/MyDrive/Colab Notebooks/CFD_XDE/requirements.txt (line 5)) (3.1.3)\n",
            "Requirement already satisfied: flask>=3.0.0 in /usr/local/lib/python3.12/dist-packages (from open3d>=0.18.0->-r /content/drive/MyDrive/Colab Notebooks/CFD_XDE/requirements.txt (line 5)) (3.1.2)\n",
            "Requirement already satisfied: nbformat>=5.7.0 in /usr/local/lib/python3.12/dist-packages (from open3d>=0.18.0->-r /content/drive/MyDrive/Colab Notebooks/CFD_XDE/requirements.txt (line 5)) (5.10.4)\n",
            "Requirement already satisfied: configargparse in /usr/local/lib/python3.12/dist-packages (from open3d>=0.18.0->-r /content/drive/MyDrive/Colab Notebooks/CFD_XDE/requirements.txt (line 5)) (1.7.1)\n",
            "Requirement already satisfied: ipywidgets>=8.0.4 in /usr/local/lib/python3.12/dist-packages (from open3d>=0.18.0->-r /content/drive/MyDrive/Colab Notebooks/CFD_XDE/requirements.txt (line 5)) (8.1.7)\n",
            "Requirement already satisfied: addict in /usr/local/lib/python3.12/dist-packages (from open3d>=0.18.0->-r /content/drive/MyDrive/Colab Notebooks/CFD_XDE/requirements.txt (line 5)) (2.4.0)\n",
            "Requirement already satisfied: pillow>=9.3.0 in /usr/local/lib/python3.12/dist-packages (from open3d>=0.18.0->-r /content/drive/MyDrive/Colab Notebooks/CFD_XDE/requirements.txt (line 5)) (11.3.0)\n",
            "Requirement already satisfied: pyyaml>=5.4.1 in /usr/local/lib/python3.12/dist-packages (from open3d>=0.18.0->-r /content/drive/MyDrive/Colab Notebooks/CFD_XDE/requirements.txt (line 5)) (6.0.2)\n",
            "Requirement already satisfied: tqdm in /usr/local/lib/python3.12/dist-packages (from open3d>=0.18.0->-r /content/drive/MyDrive/Colab Notebooks/CFD_XDE/requirements.txt (line 5)) (4.67.1)\n",
            "Requirement already satisfied: pyquaternion in /usr/local/lib/python3.12/dist-packages (from open3d>=0.18.0->-r /content/drive/MyDrive/Colab Notebooks/CFD_XDE/requirements.txt (line 5)) (0.9.9)\n",
            "Requirement already satisfied: joblib>=1.2.0 in /usr/local/lib/python3.12/dist-packages (from scikit-learn>=1.3.0->-r /content/drive/MyDrive/Colab Notebooks/CFD_XDE/requirements.txt (line 7)) (1.5.2)\n",
            "Requirement already satisfied: threadpoolctl>=3.1.0 in /usr/local/lib/python3.12/dist-packages (from scikit-learn>=1.3.0->-r /content/drive/MyDrive/Colab Notebooks/CFD_XDE/requirements.txt (line 7)) (3.6.0)\n",
            "Requirement already satisfied: contourpy>=1.0.1 in /usr/local/lib/python3.12/dist-packages (from matplotlib>=3.7.0->-r /content/drive/MyDrive/Colab Notebooks/CFD_XDE/requirements.txt (line 8)) (1.3.3)\n",
            "Requirement already satisfied: cycler>=0.10 in /usr/local/lib/python3.12/dist-packages (from matplotlib>=3.7.0->-r /content/drive/MyDrive/Colab Notebooks/CFD_XDE/requirements.txt (line 8)) (0.12.1)\n",
            "Requirement already satisfied: fonttools>=4.22.0 in /usr/local/lib/python3.12/dist-packages (from matplotlib>=3.7.0->-r /content/drive/MyDrive/Colab Notebooks/CFD_XDE/requirements.txt (line 8)) (4.60.0)\n",
            "Requirement already satisfied: kiwisolver>=1.3.1 in /usr/local/lib/python3.12/dist-packages (from matplotlib>=3.7.0->-r /content/drive/MyDrive/Colab Notebooks/CFD_XDE/requirements.txt (line 8)) (1.4.9)\n",
            "Requirement already satisfied: packaging>=20.0 in /usr/local/lib/python3.12/dist-packages (from matplotlib>=3.7.0->-r /content/drive/MyDrive/Colab Notebooks/CFD_XDE/requirements.txt (line 8)) (25.0)\n",
            "Requirement already satisfied: pyparsing>=2.3.1 in /usr/local/lib/python3.12/dist-packages (from matplotlib>=3.7.0->-r /content/drive/MyDrive/Colab Notebooks/CFD_XDE/requirements.txt (line 8)) (3.2.4)\n",
            "Requirement already satisfied: plotly>=5.0.0 in /usr/local/lib/python3.12/dist-packages (from dash>=2.6.0->open3d>=0.18.0->-r /content/drive/MyDrive/Colab Notebooks/CFD_XDE/requirements.txt (line 5)) (5.24.1)\n",
            "Requirement already satisfied: importlib-metadata in /usr/local/lib/python3.12/dist-packages (from dash>=2.6.0->open3d>=0.18.0->-r /content/drive/MyDrive/Colab Notebooks/CFD_XDE/requirements.txt (line 5)) (8.7.0)\n",
            "Requirement already satisfied: requests in /usr/local/lib/python3.12/dist-packages (from dash>=2.6.0->open3d>=0.18.0->-r /content/drive/MyDrive/Colab Notebooks/CFD_XDE/requirements.txt (line 5)) (2.32.4)\n",
            "Requirement already satisfied: retrying in /usr/local/lib/python3.12/dist-packages (from dash>=2.6.0->open3d>=0.18.0->-r /content/drive/MyDrive/Colab Notebooks/CFD_XDE/requirements.txt (line 5)) (1.4.2)\n",
            "Requirement already satisfied: nest-asyncio in /usr/local/lib/python3.12/dist-packages (from dash>=2.6.0->open3d>=0.18.0->-r /content/drive/MyDrive/Colab Notebooks/CFD_XDE/requirements.txt (line 5)) (1.6.0)\n",
            "Requirement already satisfied: blinker>=1.9.0 in /usr/local/lib/python3.12/dist-packages (from flask>=3.0.0->open3d>=0.18.0->-r /content/drive/MyDrive/Colab Notebooks/CFD_XDE/requirements.txt (line 5)) (1.9.0)\n",
            "Requirement already satisfied: click>=8.1.3 in /usr/local/lib/python3.12/dist-packages (from flask>=3.0.0->open3d>=0.18.0->-r /content/drive/MyDrive/Colab Notebooks/CFD_XDE/requirements.txt (line 5)) (8.2.1)\n",
            "Requirement already satisfied: itsdangerous>=2.2.0 in /usr/local/lib/python3.12/dist-packages (from flask>=3.0.0->open3d>=0.18.0->-r /content/drive/MyDrive/Colab Notebooks/CFD_XDE/requirements.txt (line 5)) (2.2.0)\n",
            "Requirement already satisfied: markupsafe>=2.1.1 in /usr/local/lib/python3.12/dist-packages (from flask>=3.0.0->open3d>=0.18.0->-r /content/drive/MyDrive/Colab Notebooks/CFD_XDE/requirements.txt (line 5)) (3.0.2)\n",
            "Requirement already satisfied: comm>=0.1.3 in /usr/local/lib/python3.12/dist-packages (from ipywidgets>=8.0.4->open3d>=0.18.0->-r /content/drive/MyDrive/Colab Notebooks/CFD_XDE/requirements.txt (line 5)) (0.2.3)\n",
            "Requirement already satisfied: ipython>=6.1.0 in /usr/local/lib/python3.12/dist-packages (from ipywidgets>=8.0.4->open3d>=0.18.0->-r /content/drive/MyDrive/Colab Notebooks/CFD_XDE/requirements.txt (line 5)) (7.34.0)\n",
            "Requirement already satisfied: traitlets>=4.3.1 in /usr/local/lib/python3.12/dist-packages (from ipywidgets>=8.0.4->open3d>=0.18.0->-r /content/drive/MyDrive/Colab Notebooks/CFD_XDE/requirements.txt (line 5)) (5.7.1)\n",
            "Requirement already satisfied: widgetsnbextension~=4.0.14 in /usr/local/lib/python3.12/dist-packages (from ipywidgets>=8.0.4->open3d>=0.18.0->-r /content/drive/MyDrive/Colab Notebooks/CFD_XDE/requirements.txt (line 5)) (4.0.14)\n",
            "Requirement already satisfied: jupyterlab_widgets~=3.0.15 in /usr/local/lib/python3.12/dist-packages (from ipywidgets>=8.0.4->open3d>=0.18.0->-r /content/drive/MyDrive/Colab Notebooks/CFD_XDE/requirements.txt (line 5)) (3.0.15)\n",
            "Requirement already satisfied: fastjsonschema>=2.15 in /usr/local/lib/python3.12/dist-packages (from nbformat>=5.7.0->open3d>=0.18.0->-r /content/drive/MyDrive/Colab Notebooks/CFD_XDE/requirements.txt (line 5)) (2.21.2)\n",
            "Requirement already satisfied: jsonschema>=2.6 in /usr/local/lib/python3.12/dist-packages (from nbformat>=5.7.0->open3d>=0.18.0->-r /content/drive/MyDrive/Colab Notebooks/CFD_XDE/requirements.txt (line 5)) (4.25.1)\n",
            "Requirement already satisfied: jupyter-core!=5.0.*,>=4.12 in /usr/local/lib/python3.12/dist-packages (from nbformat>=5.7.0->open3d>=0.18.0->-r /content/drive/MyDrive/Colab Notebooks/CFD_XDE/requirements.txt (line 5)) (5.8.1)\n",
            "Requirement already satisfied: six>=1.5 in /usr/local/lib/python3.12/dist-packages (from python-dateutil>=2.8.2->pandas>=2.0.0->-r /content/drive/MyDrive/Colab Notebooks/CFD_XDE/requirements.txt (line 4)) (1.17.0)\n",
            "Requirement already satisfied: pyaml>=16.9 in /usr/local/lib/python3.12/dist-packages (from scikit-optimize>=0.9.0->deepxde>=1.10.0->-r /content/drive/MyDrive/Colab Notebooks/CFD_XDE/requirements.txt (line 1)) (25.7.0)\n",
            "Requirement already satisfied: mpmath<1.4,>=1.1.0 in /usr/local/lib/python3.12/dist-packages (from sympy>=1.13.3->torch>=2.3.0->-r /content/drive/MyDrive/Colab Notebooks/CFD_XDE/requirements.txt (line 2)) (1.3.0)\n",
            "Requirement already satisfied: jedi>=0.16 in /usr/local/lib/python3.12/dist-packages (from ipython>=6.1.0->ipywidgets>=8.0.4->open3d>=0.18.0->-r /content/drive/MyDrive/Colab Notebooks/CFD_XDE/requirements.txt (line 5)) (0.19.2)\n",
            "Requirement already satisfied: decorator in /usr/local/lib/python3.12/dist-packages (from ipython>=6.1.0->ipywidgets>=8.0.4->open3d>=0.18.0->-r /content/drive/MyDrive/Colab Notebooks/CFD_XDE/requirements.txt (line 5)) (4.4.2)\n",
            "Requirement already satisfied: pickleshare in /usr/local/lib/python3.12/dist-packages (from ipython>=6.1.0->ipywidgets>=8.0.4->open3d>=0.18.0->-r /content/drive/MyDrive/Colab Notebooks/CFD_XDE/requirements.txt (line 5)) (0.7.5)\n",
            "Requirement already satisfied: prompt-toolkit!=3.0.0,!=3.0.1,<3.1.0,>=2.0.0 in /usr/local/lib/python3.12/dist-packages (from ipython>=6.1.0->ipywidgets>=8.0.4->open3d>=0.18.0->-r /content/drive/MyDrive/Colab Notebooks/CFD_XDE/requirements.txt (line 5)) (3.0.52)\n",
            "Requirement already satisfied: pygments in /usr/local/lib/python3.12/dist-packages (from ipython>=6.1.0->ipywidgets>=8.0.4->open3d>=0.18.0->-r /content/drive/MyDrive/Colab Notebooks/CFD_XDE/requirements.txt (line 5)) (2.19.2)\n",
            "Requirement already satisfied: backcall in /usr/local/lib/python3.12/dist-packages (from ipython>=6.1.0->ipywidgets>=8.0.4->open3d>=0.18.0->-r /content/drive/MyDrive/Colab Notebooks/CFD_XDE/requirements.txt (line 5)) (0.2.0)\n",
            "Requirement already satisfied: matplotlib-inline in /usr/local/lib/python3.12/dist-packages (from ipython>=6.1.0->ipywidgets>=8.0.4->open3d>=0.18.0->-r /content/drive/MyDrive/Colab Notebooks/CFD_XDE/requirements.txt (line 5)) (0.1.7)\n",
            "Requirement already satisfied: pexpect>4.3 in /usr/local/lib/python3.12/dist-packages (from ipython>=6.1.0->ipywidgets>=8.0.4->open3d>=0.18.0->-r /content/drive/MyDrive/Colab Notebooks/CFD_XDE/requirements.txt (line 5)) (4.9.0)\n",
            "Requirement already satisfied: attrs>=22.2.0 in /usr/local/lib/python3.12/dist-packages (from jsonschema>=2.6->nbformat>=5.7.0->open3d>=0.18.0->-r /content/drive/MyDrive/Colab Notebooks/CFD_XDE/requirements.txt (line 5)) (25.3.0)\n",
            "Requirement already satisfied: jsonschema-specifications>=2023.03.6 in /usr/local/lib/python3.12/dist-packages (from jsonschema>=2.6->nbformat>=5.7.0->open3d>=0.18.0->-r /content/drive/MyDrive/Colab Notebooks/CFD_XDE/requirements.txt (line 5)) (2025.9.1)\n",
            "Requirement already satisfied: referencing>=0.28.4 in /usr/local/lib/python3.12/dist-packages (from jsonschema>=2.6->nbformat>=5.7.0->open3d>=0.18.0->-r /content/drive/MyDrive/Colab Notebooks/CFD_XDE/requirements.txt (line 5)) (0.36.2)\n",
            "Requirement already satisfied: rpds-py>=0.7.1 in /usr/local/lib/python3.12/dist-packages (from jsonschema>=2.6->nbformat>=5.7.0->open3d>=0.18.0->-r /content/drive/MyDrive/Colab Notebooks/CFD_XDE/requirements.txt (line 5)) (0.27.1)\n",
            "Requirement already satisfied: platformdirs>=2.5 in /usr/local/lib/python3.12/dist-packages (from jupyter-core!=5.0.*,>=4.12->nbformat>=5.7.0->open3d>=0.18.0->-r /content/drive/MyDrive/Colab Notebooks/CFD_XDE/requirements.txt (line 5)) (4.4.0)\n",
            "Requirement already satisfied: tenacity>=6.2.0 in /usr/local/lib/python3.12/dist-packages (from plotly>=5.0.0->dash>=2.6.0->open3d>=0.18.0->-r /content/drive/MyDrive/Colab Notebooks/CFD_XDE/requirements.txt (line 5)) (8.5.0)\n",
            "Requirement already satisfied: zipp>=3.20 in /usr/local/lib/python3.12/dist-packages (from importlib-metadata->dash>=2.6.0->open3d>=0.18.0->-r /content/drive/MyDrive/Colab Notebooks/CFD_XDE/requirements.txt (line 5)) (3.23.0)\n",
            "Requirement already satisfied: charset_normalizer<4,>=2 in /usr/local/lib/python3.12/dist-packages (from requests->dash>=2.6.0->open3d>=0.18.0->-r /content/drive/MyDrive/Colab Notebooks/CFD_XDE/requirements.txt (line 5)) (3.4.3)\n",
            "Requirement already satisfied: idna<4,>=2.5 in /usr/local/lib/python3.12/dist-packages (from requests->dash>=2.6.0->open3d>=0.18.0->-r /content/drive/MyDrive/Colab Notebooks/CFD_XDE/requirements.txt (line 5)) (3.10)\n",
            "Requirement already satisfied: urllib3<3,>=1.21.1 in /usr/local/lib/python3.12/dist-packages (from requests->dash>=2.6.0->open3d>=0.18.0->-r /content/drive/MyDrive/Colab Notebooks/CFD_XDE/requirements.txt (line 5)) (2.5.0)\n",
            "Requirement already satisfied: certifi>=2017.4.17 in /usr/local/lib/python3.12/dist-packages (from requests->dash>=2.6.0->open3d>=0.18.0->-r /content/drive/MyDrive/Colab Notebooks/CFD_XDE/requirements.txt (line 5)) (2025.8.3)\n",
            "Requirement already satisfied: parso<0.9.0,>=0.8.4 in /usr/local/lib/python3.12/dist-packages (from jedi>=0.16->ipython>=6.1.0->ipywidgets>=8.0.4->open3d>=0.18.0->-r /content/drive/MyDrive/Colab Notebooks/CFD_XDE/requirements.txt (line 5)) (0.8.5)\n",
            "Requirement already satisfied: ptyprocess>=0.5 in /usr/local/lib/python3.12/dist-packages (from pexpect>4.3->ipython>=6.1.0->ipywidgets>=8.0.4->open3d>=0.18.0->-r /content/drive/MyDrive/Colab Notebooks/CFD_XDE/requirements.txt (line 5)) (0.7.0)\n",
            "Requirement already satisfied: wcwidth in /usr/local/lib/python3.12/dist-packages (from prompt-toolkit!=3.0.0,!=3.0.1,<3.1.0,>=2.0.0->ipython>=6.1.0->ipywidgets>=8.0.4->open3d>=0.18.0->-r /content/drive/MyDrive/Colab Notebooks/CFD_XDE/requirements.txt (line 5)) (0.2.13)\n"
          ]
        }
      ]
    },
    {
      "cell_type": "code",
      "source": [
        "!python \"/content/drive/MyDrive/Colab Notebooks/CFD_XDE/main1.py\""
      ],
      "metadata": {
        "colab": {
          "base_uri": "https://localhost:8080/"
        },
        "id": "H5wPmNTQ8kN7",
        "outputId": "62d906ff-e6a0-4ae8-df3c-37ca56a67f1e"
      },
      "execution_count": null,
      "outputs": [
        {
          "output_type": "stream",
          "name": "stdout",
          "text": [
            "Using backend: pytorch\n",
            "Other supported backends: tensorflow.compat.v1, tensorflow, jax, paddle.\n",
            "paddle supports more examples now and is recommended.\n",
            "Setting the default backend to \"pytorch\". You can change it in the ~/.deepxde/config.json file or export the DDE_BACKEND environment variable. Valid options are: tensorflow.compat.v1, tensorflow, pytorch, jax, paddle (all lowercase)\n",
            "Setting the default backend to \"pytorch\". You can change it in the ~/.deepxde/config.json file or export the DDE_BACKEND environment variable. Valid options are: tensorflow.compat.v1, tensorflow, pytorch, jax, paddle (all lowercase)\n",
            "\u001b[1;33m[Open3D WARNING] [KDTreeFlann::SetRawData] Failed due to no data.\u001b[0;m\n"
          ]
        }
      ]
    },
    {
      "cell_type": "markdown",
      "source": [],
      "metadata": {
        "id": "F4Dm2VY68jTX"
      }
    }
  ]
}