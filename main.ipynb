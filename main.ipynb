{
  "nbformat": 4,
  "nbformat_minor": 0,
  "metadata": {
    "colab": {
      "provenance": [],
      "mount_file_id": "1wJk0KlD9cgaTXtqUw0dt3P8WG5oDY_T1",
      "authorship_tag": "ABX9TyOek3Q1sGQyh1H8apQaTp/i",
      "include_colab_link": true
    },
    "kernelspec": {
      "name": "python3",
      "display_name": "Python 3"
    },
    "language_info": {
      "name": "python"
    }
  },
  "cells": [
    {
      "cell_type": "markdown",
      "metadata": {
        "id": "view-in-github",
        "colab_type": "text"
      },
      "source": [
        "<a href=\"https://colab.research.google.com/github/Ssurf777/CFD_XDE/blob/main/main.ipynb\" target=\"_parent\"><img src=\"https://colab.research.google.com/assets/colab-badge.svg\" alt=\"Open In Colab\"/></a>"
      ]
    },
    {
      "cell_type": "code",
      "source": [
        "!pwd"
      ],
      "metadata": {
        "id": "vZCYIn3x6sZj"
      },
      "execution_count": null,
      "outputs": []
    },
    {
      "cell_type": "markdown",
      "metadata": {
        "id": "64faf796"
      },
      "source": [
        "これまでに実行したコマンドラインは以下の通りです。\n",
        "\n",
        "1.  `!pip install -r \"/content/drive/MyDrive/Colab Notebooks/CFD_XDE/requirements.txt\"`\n",
        "2.  `!cp \"/content/drive/MyDrive/Colab Notebooks/CFD_XDE/cfd_data.npy\" /content/`\n",
        "3.  `!python \"/content/drive/MyDrive/Colab Notebooks/CFD_XDE/main1.py\"`"
      ]
    },
    {
      "cell_type": "code",
      "source": [
        "!pip install -r \"/content/drive/MyDrive/Colab Notebooks/CFD_XDE/requirements.txt\"\n",
        "!cp \"/content/drive/MyDrive/Colab Notebooks/CFD_XDE/cfd_data.npy\" /content/\n"
      ],
      "metadata": {
        "id": "sVDNPNGz8izf"
      },
      "execution_count": null,
      "outputs": []
    },
    {
      "cell_type": "code",
      "source": [
        "!python \"/content/drive/MyDrive/Colab Notebooks/CFD_XDE/main1.py\""
      ],
      "metadata": {
        "id": "H5wPmNTQ8kN7"
      },
      "execution_count": null,
      "outputs": []
    },
    {
      "cell_type": "markdown",
      "source": [],
      "metadata": {
        "id": "F4Dm2VY68jTX"
      }
    }
  ]
}